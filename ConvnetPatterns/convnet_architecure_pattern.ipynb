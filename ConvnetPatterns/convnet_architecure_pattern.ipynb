version https://git-lfs.github.com/spec/v1
oid sha256:fa6dfc1157716e5c24dc019e6f8e372fb79befe3c963bf6a5cc176bee9598a06
size 133680
