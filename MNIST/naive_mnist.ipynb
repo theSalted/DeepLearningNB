version https://git-lfs.github.com/spec/v1
oid sha256:bb158f188fe7db4fdc5a65851a0c62e54f6da1d90e81bb3deffaf4ede76f43cf
size 15216
