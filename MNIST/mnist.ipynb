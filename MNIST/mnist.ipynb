version https://git-lfs.github.com/spec/v1
oid sha256:ad6383d1783c2c86b90c57c6130a11ffdfeeb27608c7910b8c56e2f7a824b060
size 1654
