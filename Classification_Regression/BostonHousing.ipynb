version https://git-lfs.github.com/spec/v1
oid sha256:f2dc1ef971ea2b8179942ab1e143a4012da7bac7487a77c85125c6271c4d1aa6
size 70688
