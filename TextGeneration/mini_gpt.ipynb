version https://git-lfs.github.com/spec/v1
oid sha256:a0630a506c86073ea0c9bdf34a6df627de6f582e78e9f4b418bb0cbc140ff57c
size 51495
